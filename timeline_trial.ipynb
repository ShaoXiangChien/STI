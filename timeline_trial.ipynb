{
 "cells": [
  {
   "cell_type": "code",
   "execution_count": 4,
   "metadata": {},
   "outputs": [],
   "source": [
    "import pandas as pd\n",
    "\n",
    "df = pd.read_csv(\"./Experiments/反送中/news.csv\")"
   ]
  },
  {
   "cell_type": "code",
   "execution_count": 5,
   "metadata": {},
   "outputs": [],
   "source": [
    "from anomaly_detection import *\n",
    "from find_time import *\n",
    "\n",
    "time_df = find_time(df)"
   ]
  },
  {
   "cell_type": "code",
   "execution_count": 6,
   "metadata": {},
   "outputs": [
    {
     "data": {
      "text/html": [
       "<div>\n",
       "<style scoped>\n",
       "    .dataframe tbody tr th:only-of-type {\n",
       "        vertical-align: middle;\n",
       "    }\n",
       "\n",
       "    .dataframe tbody tr th {\n",
       "        vertical-align: top;\n",
       "    }\n",
       "\n",
       "    .dataframe thead th {\n",
       "        text-align: right;\n",
       "    }\n",
       "</style>\n",
       "<table border=\"1\" class=\"dataframe\">\n",
       "  <thead>\n",
       "    <tr style=\"text-align: right;\">\n",
       "      <th></th>\n",
       "      <th>Time</th>\n",
       "      <th>Event</th>\n",
       "      <th>Source</th>\n",
       "    </tr>\n",
       "  </thead>\n",
       "  <tbody>\n",
       "    <tr>\n",
       "      <th>0</th>\n",
       "      <td>1992年8月24日</td>\n",
       "      <td>▌建交30年 從開始→蜜月→冰凍期1992年8月24日，時任南韓外長李相玉與中國外長錢其琛，...</td>\n",
       "      <td>2</td>\n",
       "    </tr>\n",
       "    <tr>\n",
       "      <th>1</th>\n",
       "      <td>2001年</td>\n",
       "      <td>特別是在南韓度過90年代末期的亞洲金融風暴、而中國也於2001年加入世界貿易組織（WTO）後...</td>\n",
       "      <td>2</td>\n",
       "    </tr>\n",
       "    <tr>\n",
       "      <th>2</th>\n",
       "      <td>2003年</td>\n",
       "      <td>至2003年，中國超越美國，成為南韓最大貿易國。</td>\n",
       "      <td>2</td>\n",
       "    </tr>\n",
       "    <tr>\n",
       "      <th>3</th>\n",
       "      <td>2022年8月</td>\n",
       "      <td>樂天超市（中國稱「樂天瑪特」）在中國的74家店面，先後關店或出售，而原本在中國有5家分店的樂...</td>\n",
       "      <td>2</td>\n",
       "    </tr>\n",
       "    <tr>\n",
       "      <th>4</th>\n",
       "      <td>2022年3月</td>\n",
       "      <td>事實上，自今年3月起，南韓業界就已傳出，樂天將清算設在上海的法人總部，近幾個月也積極為轉攻東...</td>\n",
       "      <td>2</td>\n",
       "    </tr>\n",
       "  </tbody>\n",
       "</table>\n",
       "</div>"
      ],
      "text/plain": [
       "         Time                                              Event  Source\n",
       "0  1992年8月24日  ▌建交30年 從開始→蜜月→冰凍期1992年8月24日，時任南韓外長李相玉與中國外長錢其琛，...       2\n",
       "1       2001年  特別是在南韓度過90年代末期的亞洲金融風暴、而中國也於2001年加入世界貿易組織（WTO）後...       2\n",
       "2       2003年                           至2003年，中國超越美國，成為南韓最大貿易國。       2\n",
       "3     2022年8月  樂天超市（中國稱「樂天瑪特」）在中國的74家店面，先後關店或出售，而原本在中國有5家分店的樂...       2\n",
       "4     2022年3月  事實上，自今年3月起，南韓業界就已傳出，樂天將清算設在上海的法人總部，近幾個月也積極為轉攻東...       2"
      ]
     },
     "execution_count": 6,
     "metadata": {},
     "output_type": "execute_result"
    }
   ],
   "source": [
    "time_df.head()"
   ]
  },
  {
   "cell_type": "code",
   "execution_count": 17,
   "metadata": {},
   "outputs": [
    {
     "name": "stderr",
     "output_type": "stream",
     "text": [
      "/var/folders/h1/hbjqld0n16lcf2lgx8cc_xxm0000gn/T/ipykernel_1187/1656603994.py:3: SettingWithCopyWarning:\n",
      "\n",
      "\n",
      "A value is trying to be set on a copy of a slice from a DataFrame.\n",
      "Try using .loc[row_indexer,col_indexer] = value instead\n",
      "\n",
      "See the caveats in the documentation: https://pandas.pydata.org/pandas-docs/stable/user_guide/indexing.html#returning-a-view-versus-a-copy\n",
      "\n"
     ]
    }
   ],
   "source": [
    "ft = time_df['Time'].apply(lambda x: len(x) > 5)\n",
    "time_df = time_df[ft]\n",
    "time_df['timestamp'] = time_df['Time'].apply(\n",
    "    lambda x: str_to_time(str(x)))"
   ]
  },
  {
   "cell_type": "code",
   "execution_count": 18,
   "metadata": {},
   "outputs": [
    {
     "data": {
      "text/plain": [
       "(864, 4)"
      ]
     },
     "execution_count": 18,
     "metadata": {},
     "output_type": "execute_result"
    }
   ],
   "source": [
    "time_df.shape"
   ]
  },
  {
   "cell_type": "code",
   "execution_count": 19,
   "metadata": {},
   "outputs": [],
   "source": [
    "fig, anomalies = detect_anomaly_from_df(\n",
    "                    time_df, 90)"
   ]
  },
  {
   "cell_type": "code",
   "execution_count": 20,
   "metadata": {},
   "outputs": [
    {
     "data": {
      "text/plain": [
       "['2019-06-09T00:00:00Z',\n",
       " '2019-07-21T00:00:00Z',\n",
       " '2019-10-01T00:00:00Z',\n",
       " '2020-07-01T00:00:00Z',\n",
       " '2020-12-01T00:00:00Z',\n",
       " '2021-06-01T00:00:00Z',\n",
       " '2021-09-01T00:00:00Z',\n",
       " '2022-01-01T00:00:00Z',\n",
       " '2022-02-01T00:00:00Z',\n",
       " '2022-03-01T00:00:00Z',\n",
       " '2022-04-01T00:00:00Z',\n",
       " '2022-05-01T00:00:00Z',\n",
       " '2022-06-01T00:00:00Z',\n",
       " '2022-06-09T00:00:00Z',\n",
       " '2022-06-12T00:00:00Z',\n",
       " '2022-07-01T00:00:00Z',\n",
       " '2022-07-14T00:00:00Z',\n",
       " '2022-07-21T00:00:00Z',\n",
       " '2022-08-01T00:00:00Z',\n",
       " '2022-08-18T00:00:00Z',\n",
       " '2022-08-22T00:00:00Z',\n",
       " '2022-08-23T00:00:00Z',\n",
       " '2022-08-24T00:00:00Z',\n",
       " '2022-08-25T00:00:00Z',\n",
       " '2022-08-26T00:00:00Z',\n",
       " '2022-08-31T00:00:00Z',\n",
       " '2022-09-01T00:00:00Z',\n",
       " '2022-10-01T00:00:00Z',\n",
       " '2022-10-02T00:00:00Z',\n",
       " '2022-12-01T00:00:00Z']"
      ]
     },
     "execution_count": 20,
     "metadata": {},
     "output_type": "execute_result"
    }
   ],
   "source": [
    "anomalies"
   ]
  },
  {
   "cell_type": "code",
   "execution_count": 21,
   "metadata": {},
   "outputs": [
    {
     "data": {
      "application/vnd.plotly.v1+json": {
       "config": {
        "plotlyServerURL": "https://plot.ly"
       },
       "data": [
        {
         "mode": "lines",
         "name": "value",
         "type": "scatter",
         "x": [
          "2019-06-11T00:00:00Z",
          "2019-06-12T00:00:00Z",
          "2019-06-16T00:00:00Z",
          "2019-06-20T00:00:00Z",
          "2019-06-26T00:00:00Z",
          "2019-07-01T00:00:00Z",
          "2019-07-21T00:00:00Z",
          "2019-07-23T00:00:00Z",
          "2019-08-01T00:00:00Z",
          "2019-08-18T00:00:00Z",
          "2019-09-01T00:00:00Z",
          "2019-09-04T00:00:00Z",
          "2019-09-29T00:00:00Z",
          "2019-09-30T00:00:00Z",
          "2019-10-01T00:00:00Z",
          "2019-11-01T00:00:00Z",
          "2019-11-04T00:00:00Z",
          "2019-11-11T00:00:00Z",
          "2019-11-26T00:00:00Z",
          "2019-12-01T00:00:00Z",
          "2019-12-25T00:00:00Z",
          "2020-01-01T00:00:00Z",
          "2020-05-01T00:00:00Z",
          "2020-06-01T00:00:00Z",
          "2020-06-09T00:00:00Z",
          "2020-06-30T00:00:00Z",
          "2020-07-01T00:00:00Z",
          "2020-08-01T00:00:00Z",
          "2020-08-22T00:00:00Z",
          "2020-08-23T00:00:00Z",
          "2020-09-01T00:00:00Z",
          "2020-10-31T00:00:00Z",
          "2020-11-01T00:00:00Z",
          "2020-12-01T00:00:00Z",
          "2020-12-02T00:00:00Z",
          "2020-12-22T00:00:00Z",
          "2020-12-30T00:00:00Z",
          "2021-01-01T00:00:00Z",
          "2021-01-27T00:00:00Z",
          "2021-03-01T00:00:00Z",
          "2021-05-06T00:00:00Z",
          "2021-06-01T00:00:00Z",
          "2021-06-09T00:00:00Z",
          "2021-06-12T00:00:00Z",
          "2021-06-17T00:00:00Z",
          "2021-07-01T00:00:00Z",
          "2021-07-10T00:00:00Z",
          "2021-08-01T00:00:00Z",
          "2021-08-22T00:00:00Z",
          "2021-09-01T00:00:00Z",
          "2021-09-19T00:00:00Z",
          "2021-10-01T00:00:00Z",
          "2021-10-13T00:00:00Z",
          "2021-11-01T00:00:00Z",
          "2021-11-10T00:00:00Z",
          "2021-11-16T00:00:00Z",
          "2021-12-01T00:00:00Z",
          "2021-12-03T00:00:00Z",
          "2022-01-01T00:00:00Z",
          "2022-01-09T00:00:00Z",
          "2022-01-23T00:00:00Z",
          "2022-02-01T00:00:00Z",
          "2022-02-05T00:00:00Z",
          "2022-02-25T00:00:00Z",
          "2022-02-28T00:00:00Z",
          "2022-03-01T00:00:00Z",
          "2022-03-03T00:00:00Z",
          "2022-03-21T00:00:00Z",
          "2022-04-01T00:00:00Z",
          "2022-04-07T00:00:00Z",
          "2022-04-13T00:00:00Z",
          "2022-04-14T00:00:00Z",
          "2022-04-16T00:00:00Z",
          "2022-04-30T00:00:00Z",
          "2022-05-01T00:00:00Z",
          "2022-05-08T00:00:00Z",
          "2022-05-10T00:00:00Z",
          "2022-05-11T00:00:00Z",
          "2022-05-21T00:00:00Z",
          "2022-05-22T00:00:00Z",
          "2022-05-24T00:00:00Z",
          "2022-05-28T00:00:00Z",
          "2022-05-29T00:00:00Z",
          "2022-05-30T00:00:00Z",
          "2022-06-01T00:00:00Z",
          "2022-06-04T00:00:00Z",
          "2022-06-05T00:00:00Z",
          "2022-06-07T00:00:00Z",
          "2022-06-09T00:00:00Z",
          "2022-06-10T00:00:00Z",
          "2022-06-11T00:00:00Z",
          "2022-06-12T00:00:00Z",
          "2022-06-13T00:00:00Z",
          "2022-06-14T00:00:00Z",
          "2022-06-15T00:00:00Z",
          "2022-06-16T00:00:00Z",
          "2022-06-17T00:00:00Z",
          "2022-06-18T00:00:00Z",
          "2022-06-21T00:00:00Z",
          "2022-06-22T00:00:00Z",
          "2022-06-26T00:00:00Z",
          "2022-06-27T00:00:00Z",
          "2022-06-29T00:00:00Z",
          "2022-06-30T00:00:00Z",
          "2022-07-01T00:00:00Z",
          "2022-07-02T00:00:00Z",
          "2022-07-04T00:00:00Z",
          "2022-07-05T00:00:00Z",
          "2022-07-06T00:00:00Z",
          "2022-07-11T00:00:00Z",
          "2022-07-13T00:00:00Z",
          "2022-07-14T00:00:00Z",
          "2022-07-15T00:00:00Z",
          "2022-07-20T00:00:00Z",
          "2022-07-21T00:00:00Z",
          "2022-07-26T00:00:00Z",
          "2022-07-27T00:00:00Z",
          "2022-07-28T00:00:00Z",
          "2022-07-29T00:00:00Z",
          "2022-07-30T00:00:00Z",
          "2022-08-01T00:00:00Z",
          "2022-08-02T00:00:00Z",
          "2022-08-03T00:00:00Z",
          "2022-08-04T00:00:00Z",
          "2022-08-05T00:00:00Z",
          "2022-08-07T00:00:00Z",
          "2022-08-08T00:00:00Z",
          "2022-08-09T00:00:00Z",
          "2022-08-11T00:00:00Z",
          "2022-08-13T00:00:00Z",
          "2022-08-14T00:00:00Z",
          "2022-08-15T00:00:00Z",
          "2022-08-17T00:00:00Z",
          "2022-08-18T00:00:00Z",
          "2022-08-19T00:00:00Z",
          "2022-08-20T00:00:00Z",
          "2022-08-21T00:00:00Z",
          "2022-08-22T00:00:00Z",
          "2022-08-23T00:00:00Z",
          "2022-08-24T00:00:00Z",
          "2022-08-25T00:00:00Z",
          "2022-08-26T00:00:00Z",
          "2022-08-27T00:00:00Z",
          "2022-08-28T00:00:00Z",
          "2022-08-30T00:00:00Z",
          "2022-08-31T00:00:00Z",
          "2022-09-01T00:00:00Z",
          "2022-09-02T00:00:00Z",
          "2022-09-03T00:00:00Z",
          "2022-09-04T00:00:00Z",
          "2022-09-06T00:00:00Z",
          "2022-09-08T00:00:00Z",
          "2022-09-09T00:00:00Z",
          "2022-09-11T00:00:00Z",
          "2022-09-12T00:00:00Z",
          "2022-09-13T00:00:00Z",
          "2022-09-14T00:00:00Z",
          "2022-09-15T00:00:00Z",
          "2022-09-16T00:00:00Z",
          "2022-09-19T00:00:00Z",
          "2022-10-01T00:00:00Z",
          "2022-10-02T00:00:00Z",
          "2022-10-03T00:00:00Z",
          "2022-10-04T00:00:00Z",
          "2022-10-05T00:00:00Z",
          "2022-10-06T00:00:00Z",
          "2022-10-08T00:00:00Z",
          "2022-10-09T00:00:00Z",
          "2022-10-10T00:00:00Z",
          "2022-10-11T00:00:00Z",
          "2022-10-12T00:00:00Z",
          "2022-10-13T00:00:00Z",
          "2022-10-14T00:00:00Z",
          "2022-10-15T00:00:00Z",
          "2022-10-16T00:00:00Z",
          "2022-10-17T00:00:00Z",
          "2022-10-18T00:00:00Z",
          "2022-10-19T00:00:00Z",
          "2022-10-20T00:00:00Z",
          "2022-10-21T00:00:00Z",
          "2022-10-22T00:00:00Z",
          "2022-10-23T00:00:00Z",
          "2022-10-24T00:00:00Z",
          "2022-10-25T00:00:00Z",
          "2022-10-27T00:00:00Z",
          "2022-10-28T00:00:00Z",
          "2022-10-29T00:00:00Z",
          "2022-10-30T00:00:00Z",
          "2022-10-31T00:00:00Z",
          "2022-11-01T00:00:00Z",
          "2022-11-12T00:00:00Z",
          "2022-11-23T00:00:00Z",
          "2022-11-26T00:00:00Z",
          "2022-11-29T00:00:00Z",
          "2022-12-01T00:00:00Z",
          "2022-12-02T00:00:00Z",
          "2022-12-05T00:00:00Z",
          "2022-12-10T00:00:00Z",
          "2022-12-15T00:00:00Z",
          "2022-12-17T00:00:00Z",
          "2022-12-19T00:00:00Z",
          "2022-12-30T00:00:00Z"
         ],
         "y": [
          2,
          3,
          1,
          1,
          1,
          3,
          3,
          1,
          2,
          2,
          1,
          1,
          1,
          1,
          5,
          1,
          1,
          1,
          1,
          2,
          1,
          2,
          1,
          2,
          2,
          2,
          5,
          2,
          1,
          2,
          1,
          1,
          1,
          4,
          1,
          1,
          1,
          1,
          1,
          2,
          2,
          8,
          2,
          2,
          1,
          2,
          1,
          2,
          1,
          7,
          1,
          2,
          1,
          2,
          1,
          1,
          1,
          1,
          6,
          1,
          1,
          12,
          1,
          1,
          1,
          10,
          1,
          1,
          9,
          1,
          1,
          1,
          2,
          1,
          11,
          2,
          1,
          1,
          2,
          1,
          1,
          1,
          2,
          1,
          24,
          2,
          2,
          1,
          27,
          1,
          2,
          40,
          2,
          2,
          8,
          11,
          2,
          3,
          1,
          3,
          1,
          2,
          3,
          5,
          24,
          1,
          2,
          1,
          1,
          1,
          4,
          5,
          1,
          1,
          6,
          1,
          1,
          1,
          1,
          1,
          15,
          2,
          2,
          1,
          3,
          2,
          3,
          2,
          4,
          1,
          1,
          2,
          2,
          3,
          2,
          1,
          2,
          5,
          9,
          6,
          5,
          8,
          3,
          3,
          1,
          9,
          14,
          1,
          1,
          3,
          1,
          1,
          2,
          1,
          2,
          4,
          1,
          1,
          1,
          1,
          20,
          112,
          3,
          4,
          1,
          1,
          2,
          8,
          4,
          2,
          6,
          2,
          5,
          2,
          9,
          1,
          2,
          3,
          3,
          6,
          6,
          2,
          7,
          7,
          1,
          4,
          2,
          2,
          1,
          5,
          1,
          1,
          1,
          1,
          6,
          1,
          1,
          1,
          1,
          1,
          1,
          1
         ]
        },
        {
         "mode": "markers",
         "type": "scatter",
         "x": [
          "2019-07-21T00:00:00Z",
          "2019-10-01T00:00:00Z",
          "2020-07-01T00:00:00Z",
          "2020-12-01T00:00:00Z",
          "2021-06-01T00:00:00Z",
          "2021-09-01T00:00:00Z",
          "2022-01-01T00:00:00Z",
          "2022-02-01T00:00:00Z",
          "2022-03-01T00:00:00Z",
          "2022-04-01T00:00:00Z",
          "2022-05-01T00:00:00Z",
          "2022-06-01T00:00:00Z",
          "2022-06-09T00:00:00Z",
          "2022-06-12T00:00:00Z",
          "2022-07-01T00:00:00Z",
          "2022-07-14T00:00:00Z",
          "2022-07-21T00:00:00Z",
          "2022-08-01T00:00:00Z",
          "2022-08-18T00:00:00Z",
          "2022-08-22T00:00:00Z",
          "2022-08-23T00:00:00Z",
          "2022-08-24T00:00:00Z",
          "2022-08-25T00:00:00Z",
          "2022-08-26T00:00:00Z",
          "2022-08-31T00:00:00Z",
          "2022-09-01T00:00:00Z",
          "2022-10-01T00:00:00Z",
          "2022-10-02T00:00:00Z",
          "2022-12-01T00:00:00Z"
         ],
         "y": [
          3,
          5,
          5,
          4,
          8,
          7,
          6,
          12,
          10,
          9,
          11,
          24,
          27,
          40,
          24,
          5,
          6,
          15,
          3,
          5,
          9,
          6,
          5,
          8,
          9,
          14,
          20,
          112,
          6
         ]
        }
       ],
       "layout": {
        "template": {
         "data": {
          "bar": [
           {
            "error_x": {
             "color": "#2a3f5f"
            },
            "error_y": {
             "color": "#2a3f5f"
            },
            "marker": {
             "line": {
              "color": "#E5ECF6",
              "width": 0.5
             },
             "pattern": {
              "fillmode": "overlay",
              "size": 10,
              "solidity": 0.2
             }
            },
            "type": "bar"
           }
          ],
          "barpolar": [
           {
            "marker": {
             "line": {
              "color": "#E5ECF6",
              "width": 0.5
             },
             "pattern": {
              "fillmode": "overlay",
              "size": 10,
              "solidity": 0.2
             }
            },
            "type": "barpolar"
           }
          ],
          "carpet": [
           {
            "aaxis": {
             "endlinecolor": "#2a3f5f",
             "gridcolor": "white",
             "linecolor": "white",
             "minorgridcolor": "white",
             "startlinecolor": "#2a3f5f"
            },
            "baxis": {
             "endlinecolor": "#2a3f5f",
             "gridcolor": "white",
             "linecolor": "white",
             "minorgridcolor": "white",
             "startlinecolor": "#2a3f5f"
            },
            "type": "carpet"
           }
          ],
          "choropleth": [
           {
            "colorbar": {
             "outlinewidth": 0,
             "ticks": ""
            },
            "type": "choropleth"
           }
          ],
          "contour": [
           {
            "colorbar": {
             "outlinewidth": 0,
             "ticks": ""
            },
            "colorscale": [
             [
              0,
              "#0d0887"
             ],
             [
              0.1111111111111111,
              "#46039f"
             ],
             [
              0.2222222222222222,
              "#7201a8"
             ],
             [
              0.3333333333333333,
              "#9c179e"
             ],
             [
              0.4444444444444444,
              "#bd3786"
             ],
             [
              0.5555555555555556,
              "#d8576b"
             ],
             [
              0.6666666666666666,
              "#ed7953"
             ],
             [
              0.7777777777777778,
              "#fb9f3a"
             ],
             [
              0.8888888888888888,
              "#fdca26"
             ],
             [
              1,
              "#f0f921"
             ]
            ],
            "type": "contour"
           }
          ],
          "contourcarpet": [
           {
            "colorbar": {
             "outlinewidth": 0,
             "ticks": ""
            },
            "type": "contourcarpet"
           }
          ],
          "heatmap": [
           {
            "colorbar": {
             "outlinewidth": 0,
             "ticks": ""
            },
            "colorscale": [
             [
              0,
              "#0d0887"
             ],
             [
              0.1111111111111111,
              "#46039f"
             ],
             [
              0.2222222222222222,
              "#7201a8"
             ],
             [
              0.3333333333333333,
              "#9c179e"
             ],
             [
              0.4444444444444444,
              "#bd3786"
             ],
             [
              0.5555555555555556,
              "#d8576b"
             ],
             [
              0.6666666666666666,
              "#ed7953"
             ],
             [
              0.7777777777777778,
              "#fb9f3a"
             ],
             [
              0.8888888888888888,
              "#fdca26"
             ],
             [
              1,
              "#f0f921"
             ]
            ],
            "type": "heatmap"
           }
          ],
          "heatmapgl": [
           {
            "colorbar": {
             "outlinewidth": 0,
             "ticks": ""
            },
            "colorscale": [
             [
              0,
              "#0d0887"
             ],
             [
              0.1111111111111111,
              "#46039f"
             ],
             [
              0.2222222222222222,
              "#7201a8"
             ],
             [
              0.3333333333333333,
              "#9c179e"
             ],
             [
              0.4444444444444444,
              "#bd3786"
             ],
             [
              0.5555555555555556,
              "#d8576b"
             ],
             [
              0.6666666666666666,
              "#ed7953"
             ],
             [
              0.7777777777777778,
              "#fb9f3a"
             ],
             [
              0.8888888888888888,
              "#fdca26"
             ],
             [
              1,
              "#f0f921"
             ]
            ],
            "type": "heatmapgl"
           }
          ],
          "histogram": [
           {
            "marker": {
             "pattern": {
              "fillmode": "overlay",
              "size": 10,
              "solidity": 0.2
             }
            },
            "type": "histogram"
           }
          ],
          "histogram2d": [
           {
            "colorbar": {
             "outlinewidth": 0,
             "ticks": ""
            },
            "colorscale": [
             [
              0,
              "#0d0887"
             ],
             [
              0.1111111111111111,
              "#46039f"
             ],
             [
              0.2222222222222222,
              "#7201a8"
             ],
             [
              0.3333333333333333,
              "#9c179e"
             ],
             [
              0.4444444444444444,
              "#bd3786"
             ],
             [
              0.5555555555555556,
              "#d8576b"
             ],
             [
              0.6666666666666666,
              "#ed7953"
             ],
             [
              0.7777777777777778,
              "#fb9f3a"
             ],
             [
              0.8888888888888888,
              "#fdca26"
             ],
             [
              1,
              "#f0f921"
             ]
            ],
            "type": "histogram2d"
           }
          ],
          "histogram2dcontour": [
           {
            "colorbar": {
             "outlinewidth": 0,
             "ticks": ""
            },
            "colorscale": [
             [
              0,
              "#0d0887"
             ],
             [
              0.1111111111111111,
              "#46039f"
             ],
             [
              0.2222222222222222,
              "#7201a8"
             ],
             [
              0.3333333333333333,
              "#9c179e"
             ],
             [
              0.4444444444444444,
              "#bd3786"
             ],
             [
              0.5555555555555556,
              "#d8576b"
             ],
             [
              0.6666666666666666,
              "#ed7953"
             ],
             [
              0.7777777777777778,
              "#fb9f3a"
             ],
             [
              0.8888888888888888,
              "#fdca26"
             ],
             [
              1,
              "#f0f921"
             ]
            ],
            "type": "histogram2dcontour"
           }
          ],
          "mesh3d": [
           {
            "colorbar": {
             "outlinewidth": 0,
             "ticks": ""
            },
            "type": "mesh3d"
           }
          ],
          "parcoords": [
           {
            "line": {
             "colorbar": {
              "outlinewidth": 0,
              "ticks": ""
             }
            },
            "type": "parcoords"
           }
          ],
          "pie": [
           {
            "automargin": true,
            "type": "pie"
           }
          ],
          "scatter": [
           {
            "fillpattern": {
             "fillmode": "overlay",
             "size": 10,
             "solidity": 0.2
            },
            "type": "scatter"
           }
          ],
          "scatter3d": [
           {
            "line": {
             "colorbar": {
              "outlinewidth": 0,
              "ticks": ""
             }
            },
            "marker": {
             "colorbar": {
              "outlinewidth": 0,
              "ticks": ""
             }
            },
            "type": "scatter3d"
           }
          ],
          "scattercarpet": [
           {
            "marker": {
             "colorbar": {
              "outlinewidth": 0,
              "ticks": ""
             }
            },
            "type": "scattercarpet"
           }
          ],
          "scattergeo": [
           {
            "marker": {
             "colorbar": {
              "outlinewidth": 0,
              "ticks": ""
             }
            },
            "type": "scattergeo"
           }
          ],
          "scattergl": [
           {
            "marker": {
             "colorbar": {
              "outlinewidth": 0,
              "ticks": ""
             }
            },
            "type": "scattergl"
           }
          ],
          "scattermapbox": [
           {
            "marker": {
             "colorbar": {
              "outlinewidth": 0,
              "ticks": ""
             }
            },
            "type": "scattermapbox"
           }
          ],
          "scatterpolar": [
           {
            "marker": {
             "colorbar": {
              "outlinewidth": 0,
              "ticks": ""
             }
            },
            "type": "scatterpolar"
           }
          ],
          "scatterpolargl": [
           {
            "marker": {
             "colorbar": {
              "outlinewidth": 0,
              "ticks": ""
             }
            },
            "type": "scatterpolargl"
           }
          ],
          "scatterternary": [
           {
            "marker": {
             "colorbar": {
              "outlinewidth": 0,
              "ticks": ""
             }
            },
            "type": "scatterternary"
           }
          ],
          "surface": [
           {
            "colorbar": {
             "outlinewidth": 0,
             "ticks": ""
            },
            "colorscale": [
             [
              0,
              "#0d0887"
             ],
             [
              0.1111111111111111,
              "#46039f"
             ],
             [
              0.2222222222222222,
              "#7201a8"
             ],
             [
              0.3333333333333333,
              "#9c179e"
             ],
             [
              0.4444444444444444,
              "#bd3786"
             ],
             [
              0.5555555555555556,
              "#d8576b"
             ],
             [
              0.6666666666666666,
              "#ed7953"
             ],
             [
              0.7777777777777778,
              "#fb9f3a"
             ],
             [
              0.8888888888888888,
              "#fdca26"
             ],
             [
              1,
              "#f0f921"
             ]
            ],
            "type": "surface"
           }
          ],
          "table": [
           {
            "cells": {
             "fill": {
              "color": "#EBF0F8"
             },
             "line": {
              "color": "white"
             }
            },
            "header": {
             "fill": {
              "color": "#C8D4E3"
             },
             "line": {
              "color": "white"
             }
            },
            "type": "table"
           }
          ]
         },
         "layout": {
          "annotationdefaults": {
           "arrowcolor": "#2a3f5f",
           "arrowhead": 0,
           "arrowwidth": 1
          },
          "autotypenumbers": "strict",
          "coloraxis": {
           "colorbar": {
            "outlinewidth": 0,
            "ticks": ""
           }
          },
          "colorscale": {
           "diverging": [
            [
             0,
             "#8e0152"
            ],
            [
             0.1,
             "#c51b7d"
            ],
            [
             0.2,
             "#de77ae"
            ],
            [
             0.3,
             "#f1b6da"
            ],
            [
             0.4,
             "#fde0ef"
            ],
            [
             0.5,
             "#f7f7f7"
            ],
            [
             0.6,
             "#e6f5d0"
            ],
            [
             0.7,
             "#b8e186"
            ],
            [
             0.8,
             "#7fbc41"
            ],
            [
             0.9,
             "#4d9221"
            ],
            [
             1,
             "#276419"
            ]
           ],
           "sequential": [
            [
             0,
             "#0d0887"
            ],
            [
             0.1111111111111111,
             "#46039f"
            ],
            [
             0.2222222222222222,
             "#7201a8"
            ],
            [
             0.3333333333333333,
             "#9c179e"
            ],
            [
             0.4444444444444444,
             "#bd3786"
            ],
            [
             0.5555555555555556,
             "#d8576b"
            ],
            [
             0.6666666666666666,
             "#ed7953"
            ],
            [
             0.7777777777777778,
             "#fb9f3a"
            ],
            [
             0.8888888888888888,
             "#fdca26"
            ],
            [
             1,
             "#f0f921"
            ]
           ],
           "sequentialminus": [
            [
             0,
             "#0d0887"
            ],
            [
             0.1111111111111111,
             "#46039f"
            ],
            [
             0.2222222222222222,
             "#7201a8"
            ],
            [
             0.3333333333333333,
             "#9c179e"
            ],
            [
             0.4444444444444444,
             "#bd3786"
            ],
            [
             0.5555555555555556,
             "#d8576b"
            ],
            [
             0.6666666666666666,
             "#ed7953"
            ],
            [
             0.7777777777777778,
             "#fb9f3a"
            ],
            [
             0.8888888888888888,
             "#fdca26"
            ],
            [
             1,
             "#f0f921"
            ]
           ]
          },
          "colorway": [
           "#636efa",
           "#EF553B",
           "#00cc96",
           "#ab63fa",
           "#FFA15A",
           "#19d3f3",
           "#FF6692",
           "#B6E880",
           "#FF97FF",
           "#FECB52"
          ],
          "font": {
           "color": "#2a3f5f"
          },
          "geo": {
           "bgcolor": "white",
           "lakecolor": "white",
           "landcolor": "#E5ECF6",
           "showlakes": true,
           "showland": true,
           "subunitcolor": "white"
          },
          "hoverlabel": {
           "align": "left"
          },
          "hovermode": "closest",
          "mapbox": {
           "style": "light"
          },
          "paper_bgcolor": "white",
          "plot_bgcolor": "#E5ECF6",
          "polar": {
           "angularaxis": {
            "gridcolor": "white",
            "linecolor": "white",
            "ticks": ""
           },
           "bgcolor": "#E5ECF6",
           "radialaxis": {
            "gridcolor": "white",
            "linecolor": "white",
            "ticks": ""
           }
          },
          "scene": {
           "xaxis": {
            "backgroundcolor": "#E5ECF6",
            "gridcolor": "white",
            "gridwidth": 2,
            "linecolor": "white",
            "showbackground": true,
            "ticks": "",
            "zerolinecolor": "white"
           },
           "yaxis": {
            "backgroundcolor": "#E5ECF6",
            "gridcolor": "white",
            "gridwidth": 2,
            "linecolor": "white",
            "showbackground": true,
            "ticks": "",
            "zerolinecolor": "white"
           },
           "zaxis": {
            "backgroundcolor": "#E5ECF6",
            "gridcolor": "white",
            "gridwidth": 2,
            "linecolor": "white",
            "showbackground": true,
            "ticks": "",
            "zerolinecolor": "white"
           }
          },
          "shapedefaults": {
           "line": {
            "color": "#2a3f5f"
           }
          },
          "ternary": {
           "aaxis": {
            "gridcolor": "white",
            "linecolor": "white",
            "ticks": ""
           },
           "baxis": {
            "gridcolor": "white",
            "linecolor": "white",
            "ticks": ""
           },
           "bgcolor": "#E5ECF6",
           "caxis": {
            "gridcolor": "white",
            "linecolor": "white",
            "ticks": ""
           }
          },
          "title": {
           "x": 0.05
          },
          "xaxis": {
           "automargin": true,
           "gridcolor": "white",
           "linecolor": "white",
           "ticks": "",
           "title": {
            "standoff": 15
           },
           "zerolinecolor": "white",
           "zerolinewidth": 2
          },
          "yaxis": {
           "automargin": true,
           "gridcolor": "white",
           "linecolor": "white",
           "ticks": "",
           "title": {
            "standoff": 15
           },
           "zerolinecolor": "white",
           "zerolinewidth": 2
          }
         }
        }
       }
      }
     },
     "metadata": {},
     "output_type": "display_data"
    }
   ],
   "source": [
    "fig.show()"
   ]
  },
  {
   "cell_type": "code",
   "execution_count": 23,
   "metadata": {},
   "outputs": [],
   "source": [
    "ft = time_df.timestamp.apply(lambda x: x in anomalies)\n",
    "anomaly_df = time_df[ft].copy()"
   ]
  },
  {
   "cell_type": "code",
   "execution_count": 28,
   "metadata": {},
   "outputs": [],
   "source": [
    "anomaly_df.reset_index(inplace=True)"
   ]
  },
  {
   "cell_type": "code",
   "execution_count": 30,
   "metadata": {},
   "outputs": [],
   "source": [
    "anomaly_df.drop(\"index\", axis=1, inplace=True)"
   ]
  },
  {
   "cell_type": "code",
   "execution_count": 31,
   "metadata": {},
   "outputs": [
    {
     "data": {
      "text/html": [
       "<div>\n",
       "<style scoped>\n",
       "    .dataframe tbody tr th:only-of-type {\n",
       "        vertical-align: middle;\n",
       "    }\n",
       "\n",
       "    .dataframe tbody tr th {\n",
       "        vertical-align: top;\n",
       "    }\n",
       "\n",
       "    .dataframe thead th {\n",
       "        text-align: right;\n",
       "    }\n",
       "</style>\n",
       "<table border=\"1\" class=\"dataframe\">\n",
       "  <thead>\n",
       "    <tr style=\"text-align: right;\">\n",
       "      <th></th>\n",
       "      <th>Time</th>\n",
       "      <th>Event</th>\n",
       "      <th>Source</th>\n",
       "      <th>timestamp</th>\n",
       "    </tr>\n",
       "  </thead>\n",
       "  <tbody>\n",
       "    <tr>\n",
       "      <th>0</th>\n",
       "      <td>2022年8月</td>\n",
       "      <td>樂天超市（中國稱「樂天瑪特」）在中國的74家店面，先後關店或出售，而原本在中國有5家分店的樂...</td>\n",
       "      <td>2</td>\n",
       "      <td>2022-08-01T00:00:00Z</td>\n",
       "    </tr>\n",
       "    <tr>\n",
       "      <th>1</th>\n",
       "      <td>2022年3月</td>\n",
       "      <td>事實上，自今年3月起，南韓業界就已傳出，樂天將清算設在上海的法人總部，近幾個月也積極為轉攻東...</td>\n",
       "      <td>2</td>\n",
       "      <td>2022-03-01T00:00:00Z</td>\n",
       "    </tr>\n",
       "    <tr>\n",
       "      <th>2</th>\n",
       "      <td>2022年2月</td>\n",
       "      <td>美國智庫與民調機構「皮尤研究中心」（Pew Research Center）從今年2月至</td>\n",
       "      <td>2</td>\n",
       "      <td>2022-02-01T00:00:00Z</td>\n",
       "    </tr>\n",
       "    <tr>\n",
       "      <th>3</th>\n",
       "      <td>2022年6月</td>\n",
       "      <td>6月對所實施的民調顯示，有8成南韓民眾對中國持有負面印象</td>\n",
       "      <td>2</td>\n",
       "      <td>2022-06-01T00:00:00Z</td>\n",
       "    </tr>\n",
       "    <tr>\n",
       "      <th>4</th>\n",
       "      <td>2022年10月02日</td>\n",
       "      <td>當今南韓宛如走鋼索韓、中建交30年之際，經濟貿易相關數據上，已能看到南韓影響力大幅衰退，取而...</td>\n",
       "      <td>2</td>\n",
       "      <td>2022-10-02T00:00:00Z</td>\n",
       "    </tr>\n",
       "  </tbody>\n",
       "</table>\n",
       "</div>"
      ],
      "text/plain": [
       "          Time                                              Event  Source  \\\n",
       "0      2022年8月  樂天超市（中國稱「樂天瑪特」）在中國的74家店面，先後關店或出售，而原本在中國有5家分店的樂...       2   \n",
       "1      2022年3月  事實上，自今年3月起，南韓業界就已傳出，樂天將清算設在上海的法人總部，近幾個月也積極為轉攻東...       2   \n",
       "2      2022年2月       美國智庫與民調機構「皮尤研究中心」（Pew Research Center）從今年2月至       2   \n",
       "3      2022年6月                       6月對所實施的民調顯示，有8成南韓民眾對中國持有負面印象       2   \n",
       "4  2022年10月02日  當今南韓宛如走鋼索韓、中建交30年之際，經濟貿易相關數據上，已能看到南韓影響力大幅衰退，取而...       2   \n",
       "\n",
       "              timestamp  \n",
       "0  2022-08-01T00:00:00Z  \n",
       "1  2022-03-01T00:00:00Z  \n",
       "2  2022-02-01T00:00:00Z  \n",
       "3  2022-06-01T00:00:00Z  \n",
       "4  2022-10-02T00:00:00Z  "
      ]
     },
     "execution_count": 31,
     "metadata": {},
     "output_type": "execute_result"
    }
   ],
   "source": [
    "anomaly_df.head()"
   ]
  },
  {
   "cell_type": "code",
   "execution_count": 32,
   "metadata": {},
   "outputs": [
    {
     "data": {
      "text/plain": [
       "['香港',\n",
       " '反送',\n",
       " '台灣',\n",
       " '示威',\n",
       " '中國',\n",
       " '中共',\n",
       " '警方',\n",
       " '示威者',\n",
       " '游行',\n",
       " '三周年',\n",
       " '政府',\n",
       " '沒有',\n",
       " '立法',\n",
       " '港人',\n",
       " '6月',\n",
       " '表示',\n",
       " '曹興誠',\n",
       " '运动',\n",
       " '支持',\n",
       " '自己']"
      ]
     },
     "execution_count": 32,
     "metadata": {},
     "output_type": "execute_result"
    }
   ],
   "source": [
    "with open(\"./Experiments/反送中/kws.txt\") as fh:\n",
    "    kws = [line.strip() for line in fh.readlines()]\n",
    "kws"
   ]
  },
  {
   "cell_type": "code",
   "execution_count": 33,
   "metadata": {},
   "outputs": [],
   "source": [
    "kws[1] = \"反送中\""
   ]
  },
  {
   "cell_type": "code",
   "execution_count": 35,
   "metadata": {},
   "outputs": [
    {
     "data": {
      "text/plain": [
       "{'香港': 247,\n",
       " '反送中': 67,\n",
       " '台灣': 25,\n",
       " '示威': 44,\n",
       " '中國': 31,\n",
       " '中共': 30,\n",
       " '警方': 18,\n",
       " '示威者': 14,\n",
       " '游行': 45,\n",
       " '三周年': 4,\n",
       " '政府': 25,\n",
       " '沒有': 3,\n",
       " '立法': 37,\n",
       " '港人': 57,\n",
       " '6月': 106,\n",
       " '表示': 22,\n",
       " '曹興誠': 7,\n",
       " '运动': 41,\n",
       " '支持': 12,\n",
       " '自己': 10}"
      ]
     },
     "execution_count": 35,
     "metadata": {},
     "output_type": "execute_result"
    }
   ],
   "source": [
    "full_text = \"\".join(anomaly_df.Event.to_list())\n",
    "freq_table = {kw: full_text.count(kw) for kw in kws}\n",
    "freq_table"
   ]
  },
  {
   "cell_type": "code",
   "execution_count": 36,
   "metadata": {},
   "outputs": [],
   "source": [
    "sentence_score = {}\n",
    "for sent in anomaly_df.Event:\n",
    "    score = 0\n",
    "    for k, v in freq_table.items():\n",
    "        if k in sent:\n",
    "            score += v\n",
    "    sentence_score[sent] = score / len(sent)"
   ]
  },
  {
   "cell_type": "code",
   "execution_count": 37,
   "metadata": {},
   "outputs": [
    {
     "name": "stdout",
     "output_type": "stream",
     "text": [
      "[('香港立法會原訂6月12日二讀', 27.857142857142858),\n",
      " ('6月12日是香港反送中运动三周年。', 27.352941176470587),\n",
      " ('香港特首林郑月娥昨（', 24.7),\n",
      " ('今天香港也在面对、经历。', 20.583333333333332),\n",
      " ('而今天也正逢香港父亲节（', 20.583333333333332)]\n"
     ]
    }
   ],
   "source": [
    "sorted_sentences = sorted(sentence_score.items(), key=lambda x: x[1], reverse=True)\n",
    "from pprint import pprint\n",
    "pprint(sorted_sentences[:5])"
   ]
  },
  {
   "cell_type": "code",
   "execution_count": 39,
   "metadata": {},
   "outputs": [],
   "source": [
    "timeline = {timestamp: [] for timestamp in anomalies}\n",
    "for idx, row in anomaly_df.iterrows():\n",
    "    if row['timestamp'] in anomalies:\n",
    "        timeline[row['timestamp']].append(row['Event'])\n"
   ]
  },
  {
   "cell_type": "code",
   "execution_count": 44,
   "metadata": {},
   "outputs": [],
   "source": [
    "for k, v in timeline.items():\n",
    "    tmp = sorted(v, key=lambda x: sentence_score[x], reverse=True)\n",
    "    # print(f\"{k} {tmp[0]}\")\n",
    "    timeline[k] = tmp[0]\n"
   ]
  },
  {
   "cell_type": "code",
   "execution_count": 46,
   "metadata": {},
   "outputs": [],
   "source": [
    "import json\n",
    "with open(\"timeline.json\", \"w\") as fh:\n",
    "    json.dump(timeline, fh)"
   ]
  },
  {
   "cell_type": "code",
   "execution_count": null,
   "metadata": {},
   "outputs": [],
   "source": []
  }
 ],
 "metadata": {
  "kernelspec": {
   "display_name": "Python 3.10.5 64-bit",
   "language": "python",
   "name": "python3"
  },
  "language_info": {
   "codemirror_mode": {
    "name": "ipython",
    "version": 3
   },
   "file_extension": ".py",
   "mimetype": "text/x-python",
   "name": "python",
   "nbconvert_exporter": "python",
   "pygments_lexer": "ipython3",
   "version": "3.10.5"
  },
  "orig_nbformat": 4,
  "vscode": {
   "interpreter": {
    "hash": "aee8b7b246df8f9039afb4144a1f6fd8d2ca17a180786b69acc140d282b71a49"
   }
  }
 },
 "nbformat": 4,
 "nbformat_minor": 2
}
