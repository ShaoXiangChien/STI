{
 "cells": [
  {
   "cell_type": "code",
   "execution_count": 1,
   "metadata": {},
   "outputs": [],
   "source": [
    "from pprint import pprint \n",
    "import pandas as pd\n",
    "from ckiptagger import data_utils\n",
    "from ckiptagger import POS, NER, WS\n",
    "from sklearn.feature_extraction.text import TfidfVectorizer\n",
    "from ArticutAPI import Articut\n",
    "\n",
    "username = \"yishin@gmail.com\"\n",
    "apikey = \"UGqaeo46Aw+4HI#q2^P-pAbz!yPXxx6\"\n",
    "articut = Articut(username, apikey)"
   ]
  },
  {
   "cell_type": "code",
   "execution_count": 11,
   "metadata": {},
   "outputs": [],
   "source": [
    "def kwd_extraction():\n",
    "    #word segmentation\n",
    "    output = pd.read_csv(\"../STI/萊豬 output.csv\")\n",
    "    output.paragraph = output.paragraph.astype(str)\n",
    "    output.title = output.title.astype(str)\n",
    "    tokenized_text = []\n",
    "    for idx, row in output.iterrows():\n",
    "        text = row.title + row.paragraph\n",
    "        result = articut.parse(text)\n",
    "        tokenized_text += result[\"result_segmentation\"].split(\"/\")\n",
    "    \n",
    "    #tfidf\n",
    "    vectorizer = TfidfVectorizer(smooth_idf=True)\n",
    "    tfidf = vectorizer.fit_transform(tokenized_text)\n",
    "    result = pd.DataFrame(\n",
    "        tfidf.toarray(), columns=vectorizer.get_feature_names())\n",
    "    tfidf_kwd = result.sum().sort_values(ascending=False)[:100].index\n",
    "    \n",
    "    #ckip kwd\n",
    "    pos = POS('./data')\n",
    "    ner = NER('./data')\n",
    "    ws_result = tokenized_text\n",
    "    pos_result = pos(ws_result)\n",
    "    ner_result = ner(ws_result, pos_result)\n",
    "    ckip_kwd = {}\n",
    "    ner_tag = ['PERSON', 'WORK_OF_ART', 'EVENT', 'FAC', 'LAW', 'PRODUCT', 'ORG']\n",
    "    for news in ner_result:\n",
    "        for entity in news:\n",
    "            if entity[2] in ner_tag:\n",
    "                if entity[3] not in ckip_kwd: \n",
    "                    ckip_kwd[entity[3]] = 1\n",
    "                else:\n",
    "                    ckip_kwd[entity[3]] += 1\n",
    "                    \n",
    "    #compare\n",
    "    ner_list = []\n",
    "    for k, v in ckip_kwd.items():\n",
    "        if k in tfidf_kwd:\n",
    "            ner_list.append(k)\n",
    "    return k"
   ]
  },
  {
   "cell_type": "code",
   "execution_count": null,
   "metadata": {},
   "outputs": [],
   "source": [
    "kwd_extraction()"
   ]
  }
 ],
 "metadata": {
  "kernelspec": {
   "display_name": "Python 3",
   "language": "python",
   "name": "python3"
  },
  "language_info": {
   "codemirror_mode": {
    "name": "ipython",
    "version": 3
   },
   "file_extension": ".py",
   "mimetype": "text/x-python",
   "name": "python",
   "nbconvert_exporter": "python",
   "pygments_lexer": "ipython3",
   "version": "3.8.3"
  }
 },
 "nbformat": 4,
 "nbformat_minor": 4
}
